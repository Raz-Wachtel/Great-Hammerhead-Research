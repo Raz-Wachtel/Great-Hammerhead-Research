{
 "cells": [
  {
   "cell_type": "markdown",
   "metadata": {},
   "source": [
    "## Modified Great Hammerhead Von Bertalanffy Age Proxy with a Vertebral-Aged Correction Coefficient"
   ]
  },
  {
   "cell_type": "markdown",
   "metadata": {},
   "source": [
    "\n",
    "Great Hammerhead (GHH) sharks are long lived, large, semi-pelagic elasmobranchs. When studied and sampled for research purposes, morphometric measurements are taken, usually including lengths, mass, sex, and chemical (stable isotope or toxicant) analysis. \n",
    "\n",
    "Relationships between ontogeny and toxicants are vital for toxilogical studies in large fauna. While lengths can be easily documented, aging large elasmobranchs proves to be more of an estimation; aging is difficult to do without proper instrumentation and usually requires vertebrae sections with bomb radiocarbon analysis for validation.\n",
    "\n",
    "In the current study, lengths were taken, but vertebral sections were not extracted. In order to examine relationships between toxicants throughout ontogeny, age must be proxied.\n",
    "\n",
    "This notebook provides a method for aging GHH utilizing mathematical models with a correction coefficient derived from previously recorded vertebral measurements. Code provided assumes that your local dataset contains the following morphometric values: Total Length (cm) or Fork Length (cm), Sex (Male, Female)."
   ]
  },
  {
   "cell_type": "code",
   "execution_count": null,
   "metadata": {},
   "outputs": [],
   "source": [
    "# Set up your packages, datasets for the pipeline\n",
    "\n",
    "# Import All Packages\n",
    "import os\n",
    "import numpy as np \n",
    "import pandas as pd\n",
    "import scipy.signal\n",
    "from sklearn.linear_model import LinearRegression\n",
    "\n",
    "# Set working directory\n",
    "os.chdir('/Users/razzywachtel/Desktop/GHH') # set your own directory for your dataset \n",
    "\n",
    "# Read csv with pandas\n",
    "Adult_specimens = pd.read_csv('GHH_CSV.csv') # use your local dataset, make sure lengths are in cm"
   ]
  },
  {
   "cell_type": "markdown",
   "metadata": {},
   "source": [
    "### Impute Missing Fork Length Values "
   ]
  },
  {
   "cell_type": "markdown",
   "metadata": {},
   "source": [
    "We use Fork Length (FL (cm)) to calculate Von Bertalanffy Age. If samples were not measured with FL, we must convert Total Length (TL (cm)) to FL using a predefined relationship (specific to Great Hammerhead Sharks) (Piercy et al 2010):\n",
    "\n",
    "### $$ TL = 1.2533(FL) + 3.472 $$"
   ]
  },
  {
   "cell_type": "code",
   "execution_count": null,
   "metadata": {},
   "outputs": [],
   "source": [
    "# If the only measured length is Total Length (TL), convert to Fork Length (FL)\n",
    "if 'FL (mm)' not in Adult_specimens.columns:\n",
    "    Adult_specimens['FL (mm)'] = (Adult_specimens['TL (mm)'] - 3.472)/ 1.2533\n",
    "\n",
    "print(Adult_specimens)"
   ]
  },
  {
   "cell_type": "markdown",
   "metadata": {},
   "source": [
    "### Define Von Bertalanffy Function For GHH "
   ]
  },
  {
   "cell_type": "markdown",
   "metadata": {},
   "source": [
    "Now that all data is successfully imputed to the csv, we proceed by defining a modified Von Bertalanffy (VB) function (Piercy et al 2010):\n",
    "\n",
    "### $$ L_t = L_\\infty \\left(1 - be^{-kt}\\right) $$\n",
    "\n",
    "where male and female asymptotic lengths (L∞) were set at 264.2 and 323.9 cm, respectively, growth coefficient (k) was 0.16 (male) and 0.11 (female), and fork length at birth (b) was set at 50 cm for both sexes following previous works regarding Northwest Atlantic GHH (Driggers et al. 2021). "
   ]
  },
  {
   "cell_type": "code",
   "execution_count": null,
   "metadata": {},
   "outputs": [],
   "source": [
    "# Define the function to calculate age for males\n",
    "def calculate_male_age(Lt, L8=264.2, b=50, k=0.16):\n",
    "    with np.errstate(divide='ignore', invalid='ignore'): # remove np Runtime Warnings\n",
    "        Age = np.log((1/b) * (1 - (Lt / L8))) / (-k) # VB equation\n",
    "        if Age <= 0 or np.isinf(Age) or np.isnan(Age): # when FL exceeds hypothetical asymptotic age, it results in a calculation error. \n",
    "            return np.nan  # remove any invalid calculations\n",
    "        else:\n",
    "            return Age\n",
    "\n",
    "# Define the function to calculate age for females\n",
    "def calculate_female_age(Lt, L8=323.9, b=50, k=0.11):\n",
    "    with np.errstate(divide='ignore', invalid='ignore'): #remove np Runtime Warnings\n",
    "        Age = np.log((1/b) * (1 - (Lt / L8))) / (-k) # VB equation\n",
    "        if Age <= 0 or np.isinf(Age) or np.isnan(Age): # when FL exceeds hypothetical asymptotic age, it results in a calculation error. \n",
    "            return np.nan  # remove any invalid calculations\n",
    "        else:\n",
    "            return Age\n",
    "\n",
    "# Define the wrapper function to apply the correct calculation based on 'Sex'\n",
    "def calculate_age(row):\n",
    "    if row['Sex'] == 'Male':\n",
    "        return calculate_male_age(row['FL (cm)'])\n",
    "    elif row['Sex'] == 'Female':\n",
    "        return calculate_female_age(row['FL (cm)'])\n",
    "    else:\n",
    "        return np.nan  \n",
    "\n",
    "# Apply the function to create a new 'Proxied Age' column\n",
    "Adult_specimens['Modified VB Age'] = Adult_specimens.apply(calculate_age, axis=1)\n",
    "\n",
    "# Find summary statistics of the new 'Proxied Age' Column \n",
    "Adult_specimens.describe()\n"
   ]
  },
  {
   "cell_type": "markdown",
   "metadata": {},
   "source": [
    "### Ground Von Bertalanffy Equation With Vertebral Aged GHH"
   ]
  },
  {
   "cell_type": "markdown",
   "metadata": {},
   "source": [
    "Unfortunately, for the set of Great Hammerheads from the Northwest Atlantic Ocean in this study, the VB age estimation grossly overestimated ages. In order to provide better accuracy, we must add an age correction coefficient to the values calculated from the function above.\n",
    "\n",
    "The most accurate aging technique for sharks is vertebral-based aging. The Florida Wildlife Commission, Fish and Wildlife Research Institute (FWC - FWRI), were able to provide two female Great Hammerhead subjects for vertebral aging comparisons. If you have additional vertebral aged Northwest Atlantic Great Hammerhead sharks, add these to the list below, and use their respective age calculation (by sex) in the following cells.\n",
    "\n",
    "FWC - FWRI recorded values (FL (cm), Vertebral Age (yrs)): \n",
    "1) (292, 16.5)\n",
    "2) (243, 11.5)\n",
    "\n"
   ]
  },
  {
   "cell_type": "code",
   "execution_count": null,
   "metadata": {},
   "outputs": [],
   "source": [
    "Vertebral_aged_FL = [292, 243] # list of vertebral aged lengths in cm \n",
    "\n",
    "Vertebral_vb_estimation = [calculate_female_age(Lt) for Lt in Vertebral_aged_FL] # list of VB ages for vertebral aged females\n",
    "\n",
    "print(Vertebral_vb_estimation)"
   ]
  },
  {
   "cell_type": "markdown",
   "metadata": {},
   "source": [
    "We now create a regression line for these two x - y coordinates (Vertebral age, VB age)."
   ]
  },
  {
   "cell_type": "code",
   "execution_count": null,
   "metadata": {},
   "outputs": [],
   "source": [
    "Vertebral_vb_array = np.array([[16.5, 56.635017], [11.5, 48.174946]]) # create an array of the Vertebral vs VB ages\n",
    "Vertebral_vb_df = pd.DataFrame(Vertebral_vb_array) # transform to pd Dataframe\n",
    "Vertebral_vb_df.columns = ['Vertebral Age', 'VB Age'] # name columns \n",
    "\n",
    "Vb_age_array = Vertebral_vb_df['VB Age'].values.reshape(-1, 1) # reshape to two dimensions to properly fit regression model\n",
    "Vertebral_age_array = Vertebral_vb_df['Vertebral Age'].values.reshape(-1, 1)  # reshape to two dimensions to properly fit regression model\n",
    "\n",
    "# Set up linear regression \n",
    "model = LinearRegression()\n",
    "\n",
    "model.fit(Vb_age_array, Vertebral_age_array) # fit arguments to regression\n",
    "\n",
    "slope = model.coef_[0][0] # extract slope from model\n",
    "intercept = model.intercept_[0] # extract intercept\n",
    "\n",
    "# Predicting y-values based on the model\n",
    "y_pred = model.predict(Vertebral_age_array) # find y predicted values\n",
    "\n",
    "print(f\"Slope: {slope}, Intercept: {intercept}\")"
   ]
  },
  {
   "cell_type": "markdown",
   "metadata": {},
   "source": [
    "Now that we have our regression line, we now place our predefined VB ages along this line as a correction coefficient."
   ]
  },
  {
   "cell_type": "code",
   "execution_count": null,
   "metadata": {},
   "outputs": [],
   "source": [
    "def correction_coefficient(m):\n",
    "    Age_correction = m * 0.5910115884370238 - 16.971951358327846 # regression slope and intercept\n",
    "    return Age_correction # if you used additional vertebral ages and lengths, use your own regression line parameters above\n",
    "\n",
    "# Apply the function to create a new 'Age Corrected Proxy' column\n",
    "Adult_specimens['Age Corrected Proxy'] = Adult_specimens['Modified VB Age'].apply(correction_coefficient)\n",
    "\n",
    "print(Adult_specimens) # check proxied ages with the applied correction coefficient"
   ]
  },
  {
   "cell_type": "code",
   "execution_count": null,
   "metadata": {},
   "outputs": [],
   "source": [
    "Adult_specimens.to_csv('Age Corrected Von Bertalanffy Great Hammerheads', index = False) # export df as csv locally"
   ]
  },
  {
   "cell_type": "markdown",
   "metadata": {},
   "source": [
    "Citations:\n",
    "\n",
    "Piercy AN, Carlson JK, Passerotti MS. 2010. Age and growth of the great hammerhead shark, Sphyrna mokarran, in the north-western Atlantic Ocean and Gulf of Mexico. Mar Freshwater Res. 61(9):992. doi:10.1071/MF09227.\n",
    "\n",
    "Driggers III W. 2021 Nov 30. Age and growth of the great hammerhead, Sphyrna mokarran, in the western North Atlantic Ocean."
   ]
  }
 ],
 "metadata": {
  "kernelspec": {
   "display_name": "Python 3",
   "language": "python",
   "name": "python3"
  },
  "language_info": {
   "codemirror_mode": {
    "name": "ipython",
    "version": 3
   },
   "file_extension": ".py",
   "mimetype": "text/x-python",
   "name": "python",
   "nbconvert_exporter": "python",
   "pygments_lexer": "ipython3",
   "version": "3.11.4"
  }
 },
 "nbformat": 4,
 "nbformat_minor": 2
}
